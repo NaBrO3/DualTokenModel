{
 "cells": [
  {
   "cell_type": "markdown",
   "metadata": {},
   "source": [
    "# The Introduction"
   ]
  },
  {
   "cell_type": "markdown",
   "metadata": {},
   "source": [
    "[Bitcoin](https://bitcoin.org/), [ethereum](https://ethereum.org/) and other blockchains are developed so quickly during 2010s. Blockchains provide a decentrilized and auditable infrastructure to the users, allowing all members to maintain their own copies of the same ledger and ensure that the copies are all synchronized. Blockchains can be used as a ledger, a global computer or other state machines and it drives many on-chain applications."
   ]
  },
  {
   "cell_type": "markdown",
   "metadata": {},
   "source": [
    "One of the key challenges of this decentralized design is incentives. The incentive model of a blockchain is to calculating the system income (including inflation and transaction fee) and design the redistribution of the income. Another article of mine can be read (TODO: add link here) if you want to know more about the whole picture of fundamental mechanism of blockchains. Simply speaking, ignoring the difference among various consensus algrithms, the responsible participants of on-chain governance should be motivated and [bitcoin](https://bitcoin.org/), [ethereum](https://ethereum.org/), [eos](https://eos.io/) and other blockchains proposed various good solutions."
   ]
  },
  {
   "cell_type": "markdown",
   "metadata": {},
   "source": [
    "Actually on-chain behavior should be rewarded by on-chain tokens, which means, the incentive model is based on a basic token model of a blockchain. Nowadays, most of blockchains use single token model. The only token in the single token model may be used as a governance token as well as a utility token and more or less, it worked pretty well."
   ]
  },
  {
   "cell_type": "markdown",
   "metadata": {},
   "source": [
    "Blockchains like [neo](https://neo.org/) and [ontology](https://ont.io/) use a dual token model. One is governance token without inflation while the other is utility token with inflation. With inflation people may hold it while without inflation people may spend it."
   ]
  },
  {
   "cell_type": "markdown",
   "metadata": {},
   "source": [
    "In this article, the problems in the dual token model will be discussed and a comparasion with single token model will be introduced. In the end, an interesting dual token economic model will be proposed."
   ]
  },
  {
   "cell_type": "markdown",
   "metadata": {},
   "source": [
    "*In the rest of this article, [neo](https://neo.org/) will be used as an example of explaination. We will follow the design of neo blockchain and use NEO to represent the governance token and GAS to represent the utility token.*"
   ]
  },
  {
   "cell_type": "markdown",
   "metadata": {},
   "source": [
    "*In this article, it is focused on the token model instead of incentive model. So the detail of reward redistribution is ommited. For more detail about incentive model, see another article of mine (TODO: add link here).*"
   ]
  },
  {
   "cell_type": "markdown",
   "metadata": {},
   "source": [
    "# The Problem"
   ]
  },
  {
   "cell_type": "markdown",
   "metadata": {},
   "source": [
    "TODO: Difference between GP and NEO holder, Only GP get GAS"
   ]
  },
  {
   "cell_type": "markdown",
   "metadata": {},
   "source": [
    "# The Solution"
   ]
  },
  {
   "cell_type": "markdown",
   "metadata": {},
   "source": [
    "*Only the principles are statemented in this section. All the incentive details will be ommited here.*"
   ]
  },
  {
   "cell_type": "markdown",
   "metadata": {},
   "source": [
    "## No Inflation on NEO"
   ]
  },
  {
   "cell_type": "markdown",
   "metadata": {},
   "source": [
    "## Permanent Inflation on GAS"
   ]
  },
  {
   "cell_type": "markdown",
   "metadata": {},
   "source": [
    "## Redistribution of Inflation GAS"
   ]
  },
  {
   "cell_type": "markdown",
   "metadata": {},
   "source": [
    "The reward weight rate $r$ is defined in the following expression and it is used in the redistribution of inflation of GAS to evaluate how much weight per NEO the specific governance participant has. The specific governance participant owns $g$ GAS and $n$ NEO. Then an $\\arctan$ function is attached to the proportion of GAS and NEO held by the participant and the proportion will be converged between $0$ and $\\frac{\\pi}{2}$. At last, the additional reward weight rate $S$ and the minimal reward weight rate $T$ is attached in a linear scale to adjust the basic reward rate and addtional reward rate."
   ]
  },
  {
   "cell_type": "markdown",
   "metadata": {},
   "source": [
    "$$\n",
    "r = S \\arctan{\\frac{g}{n}} + T\n",
    "$$"
   ]
  },
  {
   "cell_type": "markdown",
   "metadata": {},
   "source": [
    "The following figure shows the relation between reward weight rate $r$ and proportion of GAS and NEO $\\frac{g}{n}$. Obviously the reward rate grows when the proportion of GAS and NEO grows. The growth rate of reward weight rate $r$ decreases when proportion of GAS and NEO $\\frac{g}{n}$ increases."
   ]
  },
  {
   "cell_type": "code",
   "execution_count": 54,
   "metadata": {},
   "outputs": [
    {
     "data": {
      "application/vnd.jupyter.widget-view+json": {
       "model_id": "fb37ecf099b841b8831c2481b6aae651",
       "version_major": 2,
       "version_minor": 0
      },
      "text/plain": [
       "interactive(children=(FloatSlider(value=0.6366197723675814, description='S', max=1.2732395447351628, step=0.06…"
      ]
     },
     "metadata": {},
     "output_type": "display_data"
    }
   ],
   "source": [
    "import numpy\n",
    "import matplotlib\n",
    "import ipywidgets\n",
    "\n",
    "%matplotlib inline\n",
    "\n",
    "S = ipywidgets.widgets.FloatSlider(min=0, max=4/numpy.pi, step=2/numpy.pi/10, value=2/numpy.pi)\n",
    "T = ipywidgets.widgets.FloatSlider(min=0, max=2, step=0.1, value=1)\n",
    "\n",
    "@ipywidgets.interact(S=S, T=T)\n",
    "def draw(S, T):\n",
    "    x = numpy.arange(0,100,0.001)\n",
    "    y = S * numpy.arctan(x) + T\n",
    "    matplotlib.pyplot.xlabel('g/n')\n",
    "    matplotlib.pyplot.ylabel('r')\n",
    "    matplotlib.pyplot.plot(x, y)\n",
    "    matplotlib.pyplot.show()"
   ]
  },
  {
   "cell_type": "markdown",
   "metadata": {},
   "source": [
    "It would be more clear if logarithmic scale is used to plot the relation between reward weight rate $r$ and proportion of GAS and NEO $\\frac{g}{n}$ in the follwing figure. It is pretty hard to increase reward weight rate $r$ a bit if proportion of GAS and NEO $\\frac{g}{n}$ is enough large."
   ]
  },
  {
   "cell_type": "code",
   "execution_count": 55,
   "metadata": {},
   "outputs": [
    {
     "data": {
      "application/vnd.jupyter.widget-view+json": {
       "model_id": "079b0c602862425f96ec577516e9dc94",
       "version_major": 2,
       "version_minor": 0
      },
      "text/plain": [
       "interactive(children=(FloatSlider(value=0.6366197723675814, description='S', max=1.2732395447351628, step=0.06…"
      ]
     },
     "metadata": {},
     "output_type": "display_data"
    }
   ],
   "source": [
    "import numpy\n",
    "import matplotlib\n",
    "import ipywidgets\n",
    "\n",
    "%matplotlib inline\n",
    "\n",
    "S = ipywidgets.widgets.FloatSlider(min=0, max=4/numpy.pi, step=2/numpy.pi/10, value=2/numpy.pi)\n",
    "T = ipywidgets.widgets.FloatSlider(min=0, max=2, step=0.1, value=1)\n",
    "\n",
    "@ipywidgets.interact(S=S, T=T)\n",
    "def draw(S, T):\n",
    "    x = numpy.arange(-8,8,0.001)\n",
    "    y = S * numpy.arctan(10**x) + T\n",
    "    matplotlib.pyplot.xlabel('log(g/n)')\n",
    "    matplotlib.pyplot.ylabel('r')\n",
    "    matplotlib.pyplot.plot(x, y)\n",
    "    matplotlib.pyplot.show()"
   ]
  },
  {
   "cell_type": "markdown",
   "metadata": {},
   "source": [
    "The reward weight $w$ is defined as the production of the number of NEO $n$ held by the participant and its reward weight rate $r$."
   ]
  },
  {
   "cell_type": "markdown",
   "metadata": {},
   "source": [
    "$$\n",
    "w = n r\n",
    "$$"
   ]
  },
  {
   "cell_type": "markdown",
   "metadata": {},
   "source": [
    "The following 3D figure shows the relation of the number of NEO $n$ and the number of GAS $g$ held by the participant and its reward weight rate $r$."
   ]
  },
  {
   "cell_type": "code",
   "execution_count": 56,
   "metadata": {},
   "outputs": [
    {
     "data": {
      "application/vnd.jupyter.widget-view+json": {
       "model_id": "07e7997944124aeb9f948eaaab14eab0",
       "version_major": 2,
       "version_minor": 0
      },
      "text/plain": [
       "interactive(children=(FloatSlider(value=0.6366197723675814, description='S', max=1.2732395447351628, step=0.06…"
      ]
     },
     "metadata": {},
     "output_type": "display_data"
    }
   ],
   "source": [
    "import numpy\n",
    "import matplotlib\n",
    "import ipywidgets\n",
    "\n",
    "%matplotlib inline\n",
    "\n",
    "S = ipywidgets.widgets.FloatSlider(min=0, max=4/numpy.pi, step=2/numpy.pi/10, value=2/numpy.pi)\n",
    "T = ipywidgets.widgets.FloatSlider(min=0, max=2, step=0.1, value=1)\n",
    "\n",
    "@ipywidgets.interact(S=S, T=T)\n",
    "def draw(S, T):\n",
    "    x = numpy.arange(1,10,1)\n",
    "    y = numpy.arange(0.1,100,0.1)\n",
    "    x, y = numpy.meshgrid(x, y)\n",
    "    z = x * S * numpy.arctan(10**(y/x)) + T\n",
    "    matplotlib.pyplot.gca(projection='3d').plot_surface(x, y, z)\n",
    "    matplotlib.pyplot.show()"
   ]
  },
  {
   "cell_type": "markdown",
   "metadata": {},
   "source": [
    "As a result, the reward $e$ in GAS can be counted as the following expression where $I$ is the amount of inflation GAS, $V$ is all the governance participants and $w_i$ is the reward weight of governance participant $i$."
   ]
  },
  {
   "cell_type": "markdown",
   "metadata": {},
   "source": [
    "$$\n",
    "e = \\frac{I w}{\\sum_{i \\in V}{w_i}}\n",
    "$$"
   ]
  },
  {
   "cell_type": "markdown",
   "metadata": {},
   "source": [
    "# The Analysis"
   ]
  },
  {
   "cell_type": "markdown",
   "metadata": {},
   "source": [
    "TODO: SPEND ARCTAN"
   ]
  },
  {
   "cell_type": "markdown",
   "metadata": {},
   "source": [
    "## More NEO Held, More GAS Rewarded"
   ]
  },
  {
   "cell_type": "markdown",
   "metadata": {},
   "source": [
    "$$\\frac{\\partial e}{\\partial n} \\geqslant 0$$"
   ]
  },
  {
   "cell_type": "markdown",
   "metadata": {},
   "source": [
    "## More GAS Held, More GAS Rewarded"
   ]
  },
  {
   "cell_type": "markdown",
   "metadata": {},
   "source": [
    "$$\\frac{\\partial e}{\\partial g} \\geqslant 0$$"
   ]
  },
  {
   "cell_type": "markdown",
   "metadata": {},
   "source": [
    "# The Experiment"
   ]
  },
  {
   "cell_type": "markdown",
   "metadata": {},
   "source": [
    "TODO"
   ]
  },
  {
   "cell_type": "markdown",
   "metadata": {},
   "source": [
    "## Retial Investor"
   ]
  },
  {
   "cell_type": "markdown",
   "metadata": {},
   "source": [
    "Alice is a retial investor and she has totally some money for investment. She likes [neo](https://neo.org/) blockchain and she want to spend all her money to buy the native tokens on [neo](https://neo.org/) blockchain, a.k.a NEO and GAS. How many NEO coins should she buy and how many GAS coins should she buy? Which strategy should she use?"
   ]
  },
  {
   "cell_type": "markdown",
   "metadata": {},
   "source": [
    "By assuming Alice has $A$ dollars and $N$ is the price of NEO in dollar and $G$ is the price of GAS in dollar, the following expression is statemented because Alice spend all her money to buy NEO and GAS."
   ]
  },
  {
   "cell_type": "markdown",
   "metadata": {},
   "source": [
    "$$\n",
    "A = n N + g G\n",
    "$$"
   ]
  },
  {
   "cell_type": "markdown",
   "metadata": {},
   "source": [
    "Transform it into another form. The relation between $g$ and $n$ is shown:"
   ]
  },
  {
   "cell_type": "markdown",
   "metadata": {},
   "source": [
    "$$\n",
    "g = \\frac{A - n N}{G}\n",
    "$$"
   ]
  },
  {
   "cell_type": "markdown",
   "metadata": {},
   "source": [
    "It is obvious that such relation is linear."
   ]
  },
  {
   "cell_type": "code",
   "execution_count": 57,
   "metadata": {},
   "outputs": [
    {
     "data": {
      "application/vnd.jupyter.widget-view+json": {
       "model_id": "db152a28ff1e4801abad902d324e25f3",
       "version_major": 2,
       "version_minor": 0
      },
      "text/plain": [
       "interactive(children=(FloatSlider(value=0.6366197723675814, description='S', max=1.2732395447351628, step=0.06…"
      ]
     },
     "metadata": {},
     "output_type": "display_data"
    }
   ],
   "source": [
    "import numpy\n",
    "import matplotlib\n",
    "import ipywidgets\n",
    "\n",
    "%matplotlib inline\n",
    "\n",
    "S = ipywidgets.widgets.FloatSlider(min=0, max=4/numpy.pi, step=2/numpy.pi/10, value=2/numpy.pi)\n",
    "T = ipywidgets.widgets.FloatSlider(min=0, max=2, step=0.1, value=1)\n",
    "\n",
    "A = ipywidgets.widgets.FloatSlider(min=0, max=1000, step=10, value=100)\n",
    "G = ipywidgets.widgets.FloatSlider(min=0, max=100, step=1, value=2)\n",
    "N = ipywidgets.widgets.FloatSlider(min=0, max=100, step=1, value=10)\n",
    "\n",
    "@ipywidgets.interact(S=S, T=T, A=A, G=G, N=N)\n",
    "def draw(S, T, A, G, N):\n",
    "    x = numpy.arange(0.001,A/N,0.001)\n",
    "    y = (A - x * N) / G\n",
    "    matplotlib.pyplot.xlabel('n')\n",
    "    matplotlib.pyplot.ylabel('g')\n",
    "    matplotlib.pyplot.plot(x, y)\n",
    "    matplotlib.pyplot.show()"
   ]
  },
  {
   "cell_type": "markdown",
   "metadata": {},
   "source": [
    "Then the relation between reward weight rate $r$ and number of NEO $n$ held by Alice can be calculated."
   ]
  },
  {
   "cell_type": "markdown",
   "metadata": {},
   "source": [
    "$$\n",
    "r = S \\arctan{\\frac{A - n N}{n G}} + T\n",
    "$$"
   ]
  },
  {
   "cell_type": "markdown",
   "metadata": {},
   "source": [
    "The more NEO Alice buys, the less GAS Alice buys, then, the less reward weight rate $r$."
   ]
  },
  {
   "cell_type": "code",
   "execution_count": 58,
   "metadata": {},
   "outputs": [
    {
     "data": {
      "application/vnd.jupyter.widget-view+json": {
       "model_id": "d0216c6d66ad491785e0c46ef3d5949a",
       "version_major": 2,
       "version_minor": 0
      },
      "text/plain": [
       "interactive(children=(FloatSlider(value=0.6366197723675814, description='S', max=1.2732395447351628, step=0.06…"
      ]
     },
     "metadata": {},
     "output_type": "display_data"
    }
   ],
   "source": [
    "import numpy\n",
    "import matplotlib\n",
    "import ipywidgets\n",
    "\n",
    "%matplotlib inline\n",
    "\n",
    "S = ipywidgets.widgets.FloatSlider(min=0, max=4/numpy.pi, step=2/numpy.pi/10, value=2/numpy.pi)\n",
    "T = ipywidgets.widgets.FloatSlider(min=0, max=2, step=0.1, value=1)\n",
    "\n",
    "A = ipywidgets.widgets.FloatSlider(min=0, max=1000, step=10, value=100)\n",
    "G = ipywidgets.widgets.FloatSlider(min=0, max=100, step=1, value=2)\n",
    "N = ipywidgets.widgets.FloatSlider(min=0, max=100, step=1, value=10)\n",
    "\n",
    "@ipywidgets.interact(S=S, T=T, A=A, G=G, N=N)\n",
    "def draw(S, T, A, G, N):\n",
    "    x = numpy.arange(0.001,A/N,0.001)\n",
    "    y = S * numpy.arctan((A - x * N) / (x * G)) + T\n",
    "    matplotlib.pyplot.xlabel('n')\n",
    "    matplotlib.pyplot.ylabel('r')\n",
    "    matplotlib.pyplot.plot(x, y)\n",
    "    matplotlib.pyplot.show()"
   ]
  },
  {
   "cell_type": "markdown",
   "metadata": {},
   "source": [
    "The reward weight $w$ can be evaluated by multiplying the number of NEO $n$ held by Alice."
   ]
  },
  {
   "cell_type": "markdown",
   "metadata": {},
   "source": [
    "$$\n",
    "w = n S \\arctan{\\frac{A - n N}{n G}} + n T\n",
    "$$"
   ]
  },
  {
   "cell_type": "markdown",
   "metadata": {},
   "source": [
    "The following figure shows the relation between reward weight $w$ and number of NEO $n$ bought by Alice. At first, reward weight $w$ grows when $n$ grows but later reward weight $w$ goes down."
   ]
  },
  {
   "cell_type": "code",
   "execution_count": 59,
   "metadata": {},
   "outputs": [
    {
     "data": {
      "application/vnd.jupyter.widget-view+json": {
       "model_id": "e755ba6c6d9e42a0b8be292c01197574",
       "version_major": 2,
       "version_minor": 0
      },
      "text/plain": [
       "interactive(children=(FloatSlider(value=0.6366197723675814, description='S', max=1.2732395447351628, step=0.06…"
      ]
     },
     "metadata": {},
     "output_type": "display_data"
    }
   ],
   "source": [
    "import numpy\n",
    "import matplotlib\n",
    "import ipywidgets\n",
    "\n",
    "%matplotlib inline\n",
    "\n",
    "S = ipywidgets.widgets.FloatSlider(min=0, max=4/numpy.pi, step=2/numpy.pi/10, value=2/numpy.pi)\n",
    "T = ipywidgets.widgets.FloatSlider(min=0, max=2, step=0.1, value=1)\n",
    "\n",
    "A = ipywidgets.widgets.FloatSlider(min=0, max=1000, step=10, value=100)\n",
    "G = ipywidgets.widgets.FloatSlider(min=0, max=100, step=1, value=2)\n",
    "N = ipywidgets.widgets.FloatSlider(min=0, max=100, step=1, value=10)\n",
    "\n",
    "@ipywidgets.interact(S=S, T=T, A=A, G=G, N=N)\n",
    "def draw(S, T, A, G, N):\n",
    "    x = numpy.arange(0.001,A/N,0.001)\n",
    "    y = x * S * numpy.arctan((A - x * N) / (x * G)) + x * T\n",
    "    matplotlib.pyplot.xlabel('n')\n",
    "    matplotlib.pyplot.ylabel('w')\n",
    "    matplotlib.pyplot.plot(x, y)\n",
    "    matplotlib.pyplot.show()"
   ]
  },
  {
   "cell_type": "markdown",
   "metadata": {},
   "source": [
    "By assuming the total supply of NEO is $U$, the rate of $NEO$ which participated in blockchain governance is $R$ and the average reward weight per NEO is $W$, we have $\\sum_{i \\in V}{w_i} = U R W$. Then the relation between reward $e$ in GAS and reward weight $w$ can be evaluated as the following expression:"
   ]
  },
  {
   "cell_type": "markdown",
   "metadata": {},
   "source": [
    "$$\n",
    "e = \\frac{w I}{U R W}\n",
    "$$"
   ]
  },
  {
   "cell_type": "markdown",
   "metadata": {},
   "source": [
    "The relation between reward $e$ in GAS and amount of NEO $n$ bought by Alice can be shown in the following figure:"
   ]
  },
  {
   "cell_type": "code",
   "execution_count": 60,
   "metadata": {},
   "outputs": [
    {
     "data": {
      "application/vnd.jupyter.widget-view+json": {
       "model_id": "229e67b0f350421089a01ed19e59940b",
       "version_major": 2,
       "version_minor": 0
      },
      "text/plain": [
       "interactive(children=(FloatSlider(value=0.6366197723675814, description='S', max=1.2732395447351628, step=0.06…"
      ]
     },
     "metadata": {},
     "output_type": "display_data"
    }
   ],
   "source": [
    "import numpy\n",
    "import matplotlib\n",
    "import ipywidgets\n",
    "\n",
    "%matplotlib inline\n",
    "\n",
    "S = ipywidgets.widgets.FloatSlider(min=0, max=4/numpy.pi, step=2/numpy.pi/10, value=2/numpy.pi)\n",
    "T = ipywidgets.widgets.FloatSlider(min=0, max=2, step=0.1, value=1)\n",
    "\n",
    "A = ipywidgets.widgets.FloatSlider(min=0, max=1000, step=10, value=100)\n",
    "G = ipywidgets.widgets.FloatSlider(min=0, max=100, step=1, value=2)\n",
    "N = ipywidgets.widgets.FloatSlider(min=0, max=100, step=1, value=10)\n",
    "\n",
    "I = ipywidgets.widgets.FloatSlider(min=10**6, max=10**8, step=10**6, value=10**7)\n",
    "U = ipywidgets.widgets.FloatSlider(min=10**8, max=10**8, step=10**8, value=10**8)\n",
    "R = ipywidgets.widgets.FloatSlider(min=0, max=1, step=0.01, value=0.25)\n",
    "W = ipywidgets.widgets.FloatSlider(min=0, max=2, step=0.01, value=0.4)\n",
    "\n",
    "@ipywidgets.interact(S=S, T=T, A=A, G=G, N=N, I=I, U=U, R=R, W=W)\n",
    "def draw(S, T, A, G, N, I, U, R, W):\n",
    "    x = numpy.arange(0.001,A/N,0.001)\n",
    "    y = x * S * numpy.arctan((A - x * N) / (x * G)) + x * T\n",
    "    y = y * I / U / R / W\n",
    "    matplotlib.pyplot.xlabel('n')\n",
    "    matplotlib.pyplot.ylabel('e')\n",
    "    matplotlib.pyplot.plot(x, y)\n",
    "    matplotlib.pyplot.show()"
   ]
  },
  {
   "cell_type": "markdown",
   "metadata": {},
   "source": [
    "Then the rate of profit $p$ in dollar can be couted:"
   ]
  },
  {
   "cell_type": "markdown",
   "metadata": {},
   "source": [
    "$$\n",
    "p = \\frac{e G}{A}\n",
    "$$"
   ]
  },
  {
   "cell_type": "markdown",
   "metadata": {},
   "source": [
    "And the relation between rate of profit $p$ and amount of NEO $n$ bought by Alice can be drawn:"
   ]
  },
  {
   "cell_type": "code",
   "execution_count": 61,
   "metadata": {},
   "outputs": [
    {
     "data": {
      "application/vnd.jupyter.widget-view+json": {
       "model_id": "9de4d6b503cf41d190dbfb720b0476eb",
       "version_major": 2,
       "version_minor": 0
      },
      "text/plain": [
       "interactive(children=(FloatSlider(value=0.6366197723675814, description='S', max=1.2732395447351628, step=0.06…"
      ]
     },
     "metadata": {},
     "output_type": "display_data"
    }
   ],
   "source": [
    "import numpy\n",
    "import matplotlib\n",
    "import ipywidgets\n",
    "\n",
    "%matplotlib inline\n",
    "\n",
    "S = ipywidgets.widgets.FloatSlider(min=0, max=4/numpy.pi, step=2/numpy.pi/10, value=2/numpy.pi)\n",
    "T = ipywidgets.widgets.FloatSlider(min=0, max=2, step=0.1, value=1)\n",
    "\n",
    "A = ipywidgets.widgets.FloatSlider(min=0, max=1000, step=10, value=100)\n",
    "G = ipywidgets.widgets.FloatSlider(min=0, max=100, step=1, value=2)\n",
    "N = ipywidgets.widgets.FloatSlider(min=0, max=100, step=1, value=10)\n",
    "\n",
    "I = ipywidgets.widgets.FloatSlider(min=10**6, max=10**8, step=10**6, value=10**7)\n",
    "U = ipywidgets.widgets.FloatSlider(min=10**8, max=10**8, step=10**8, value=10**8)\n",
    "R = ipywidgets.widgets.FloatSlider(min=0, max=1, step=0.01, value=0.25)\n",
    "W = ipywidgets.widgets.FloatSlider(min=0, max=2, step=0.01, value=0.4)\n",
    "\n",
    "@ipywidgets.interact(S=S, T=T, A=A, G=G, N=N, I=I, U=U, R=R, W=W)\n",
    "def draw(S, T, A, G, N, I, U, R, W):\n",
    "    x = numpy.arange(0.001,A/N,0.001)\n",
    "    y = x * S * numpy.arctan((A - x * N) / (x * G)) + x * T\n",
    "    y = y * I / U / R / W\n",
    "    y = y * G / A\n",
    "    matplotlib.pyplot.xlabel('n')\n",
    "    matplotlib.pyplot.ylabel('p')\n",
    "    matplotlib.pyplot.plot(x, y)\n",
    "    matplotlib.pyplot.show()"
   ]
  },
  {
   "cell_type": "markdown",
   "metadata": {},
   "source": [
    "As a result, the best strategy for Alice is to buy $n$ NEO to reach the highest rate of profit $p$."
   ]
  },
  {
   "cell_type": "markdown",
   "metadata": {},
   "source": [
    "# The Conclusion"
   ]
  },
  {
   "cell_type": "markdown",
   "metadata": {},
   "source": [
    "With the proposed solution in this article, the advantages of dual token economic model can be really activated. We hope the designers of blockchains can be inspired from this article and make their blockchain more sustainable."
   ]
  },
  {
   "cell_type": "markdown",
   "metadata": {},
   "source": [
    "# The Appendix"
   ]
  },
  {
   "cell_type": "markdown",
   "metadata": {},
   "source": [
    "## Notation"
   ]
  },
  {
   "cell_type": "markdown",
   "metadata": {},
   "source": [
    "- $A$: the total money in dollar owned by the specific participant of neo governance\n",
    "- $e$: reward in GAS\n",
    "- $G$: price of GAS in dollar\n",
    "- $g$: amount of GAS held by the specific participant of neo governance\n",
    "- $I$: amount of inflation GAS\n",
    "- $N$: price of NEO in dollar\n",
    "- $n$: amount of NEO held by the specific participant of neo governance\n",
    "- $p$: rate of profit in dollar\n",
    "- $r$: reward weight rate\n",
    "- $S$: additional reward weight rate\n",
    "- $T$: minimal reward weight rate\n",
    "- $V$: the set of all governance participant\n",
    "- $w$: reward weight"
   ]
  },
  {
   "cell_type": "markdown",
   "metadata": {},
   "source": [
    "@vang1ong7ang"
   ]
  }
 ],
 "metadata": {
  "kernelspec": {
   "display_name": "Python 3",
   "language": "python",
   "name": "python3"
  },
  "language_info": {
   "codemirror_mode": {
    "name": "ipython",
    "version": 3
   },
   "file_extension": ".py",
   "mimetype": "text/x-python",
   "name": "python",
   "nbconvert_exporter": "python",
   "pygments_lexer": "ipython3",
   "version": "3.8.1"
  }
 },
 "nbformat": 4,
 "nbformat_minor": 4
}
