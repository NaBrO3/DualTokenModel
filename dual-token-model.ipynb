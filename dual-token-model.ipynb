{
 "cells": [
  {
   "cell_type": "code",
   "execution_count": 1,
   "metadata": {},
   "outputs": [],
   "source": [
    "# YOU DON'T NEED TO READ THIS SECTION UNLESS YOU WANT TO KNOW THE IMPLEMENT DETAILS OF FIGURES\n",
    "import numpy\n",
    "import matplotlib\n",
    "import ipywidgets\n",
    "%matplotlib inline"
   ]
  },
  {
   "cell_type": "markdown",
   "metadata": {},
   "source": [
    "# The Introduction"
   ]
  },
  {
   "cell_type": "markdown",
   "metadata": {},
   "source": [
    "[Bitcoin](https://bitcoin.org/), [ethereum](https://ethereum.org/) and other blockchains are developed so quickly during 2010s. Blockchains provide a decentrilized and auditable infrastructure to the users, allowing all members to maintain their own copies of the same ledger and ensure that the copies are all synchronized. Blockchains can be used as a ledger, a global computer or other state machines and it drives many on-chain applications."
   ]
  },
  {
   "cell_type": "markdown",
   "metadata": {},
   "source": [
    "One of the key challenges of this decentralized design is incentives. The incentive model of a blockchain is to calculating the system income (including inflation and transaction fee) and design the redistribution of the income. Another article of mine can be read (TODO: add link here) if you want to know more about the whole picture of fundamental mechanism of blockchains. Simply speaking, ignoring the difference among various consensus algrithms, the responsible participants of on-chain governance should be motivated and [bitcoin](https://bitcoin.org/), [ethereum](https://ethereum.org/), [eos](https://eos.io/) and other blockchains proposed various good solutions."
   ]
  },
  {
   "cell_type": "markdown",
   "metadata": {},
   "source": [
    "Actually on-chain behavior should be rewarded by on-chain tokens, which means, the incentive model is based on a basic token model of a blockchain. Nowadays, most of blockchains use single token model. The only token in the single token model may be used as a governance token as well as a utility token and more or less, it worked pretty well."
   ]
  },
  {
   "cell_type": "markdown",
   "metadata": {},
   "source": [
    "Blockchains like [neo](https://neo.org/) and [ontology](https://ont.io/) use a dual token model. One is governance token without inflation while the other is utility token with inflation. With inflation people may hold it while without inflation people may spend it."
   ]
  },
  {
   "cell_type": "markdown",
   "metadata": {},
   "source": [
    "In this article, the problems in the dual token model will be discussed and a comparasion with single token model will be introduced. In the end, an interesting dual token economic model will be proposed."
   ]
  },
  {
   "cell_type": "markdown",
   "metadata": {},
   "source": [
    "*In the rest of this article, [neo](https://neo.org/) will be used as an example of explaination. We will follow the design of neo blockchain and use NEO to represent the governance token and GAS to represent the utility token.*"
   ]
  },
  {
   "cell_type": "markdown",
   "metadata": {},
   "source": [
    "*In this article, it is focused on the token model instead of incentive model. So the detail of reward redistribution is ommited. For more detail about incentive model, see another article of mine (TODO: add link here).*"
   ]
  },
  {
   "cell_type": "markdown",
   "metadata": {},
   "source": [
    "# The Problem"
   ]
  },
  {
   "cell_type": "markdown",
   "metadata": {},
   "source": [
    "As an example, current token model of [neo](http://neo.org/) will be shown below:"
   ]
  },
  {
   "cell_type": "markdown",
   "metadata": {},
   "source": [
    "> There are 2 kinds of native token defined in neo system: NEO and GAS.\n",
    "> \n",
    "> NEO is Governing Token. Neo holders can take part in NEO network management, including voting for consensus nodes, network parameter modification, etc. NEO's total amount is 100 million. Its minimum unit is 1 and can not be divided. It's registered in Genesis block, and stored in standby validators' muti-signature addresses.\n",
    ">\n",
    "> GAS is utility token, or network fuel token. Operation costs and incentive for consensus node in NEO network are paid in GAS. GAS's total amount is also 100 million and can be divided to 0.00000001 unit. Gas is registered in Genesis block and issued afterwards as block incentive for NEO holders.\n",
    "> A new block is generated about every 15 seconds according to system design. Thus approximately 2 million new blocks are created every year. 100 million GAS is issued gradually in 22 years according to a attenuation algorithm. No GAS is issued afterwards."
   ]
  },
  {
   "cell_type": "markdown",
   "metadata": {},
   "source": [
    "PoS and BFT like blockchains need governance mechanism to make on-chain decision and incentive mechanism to reward responsible governance participants. However, the implements detail of governance mechanism and incentive mechanism will not be introduced here. Some of the NEO holders are governance participants because NEO is the governance token. GAS can only be paid as transaction fees."
   ]
  },
  {
   "cell_type": "markdown",
   "metadata": {},
   "source": [
    "In the version 2 of [neo](http://neo.org/), the inflation GAS is distributed to NEO holders, which makes NEO holders too lazy to participate in on-chain governance because NEO holders get the same GAS whether they participate or not. Thus, in the version 3 of [neo](http://neo.org/), the inflation GAS is only distributed to governance participants as a reward."
   ]
  },
  {
   "cell_type": "markdown",
   "metadata": {},
   "source": [
    "In this article, governance participants is used instead of NEO holders. You should keep in mind that governace partcipants are not equivalent to NEO holders."
   ]
  },
  {
   "cell_type": "markdown",
   "metadata": {},
   "source": [
    "However, the problem is that, the low demand of GAS makes GAS valueless, and easily been controlled in the market and exchanges by attackers. Currently there are not enough on-chain transactions which need a lot of GAS. Almost the only thing that a governance participant can to when it obtains a GAS is to sell it. Then, more want to sell it but less want to buy it. GAS becomes valueless. As a result, governance participants can not get enough reward if the price of GAS is too low."
   ]
  },
  {
   "cell_type": "markdown",
   "metadata": {},
   "source": [
    "In this article, solution will be proposed to solve the GAS dilemma."
   ]
  },
  {
   "cell_type": "markdown",
   "metadata": {},
   "source": [
    "# The Solution"
   ]
  },
  {
   "cell_type": "markdown",
   "metadata": {},
   "source": [
    "*Only the principles are statemented in this section. All the incentive details will be ommited here.*"
   ]
  },
  {
   "cell_type": "code",
   "execution_count": 2,
   "metadata": {},
   "outputs": [],
   "source": [
    "# YOU DON'T NEED TO READ THIS SECTION UNLESS YOU WANT TO KNOW THE IMPLEMENT DETAILS OF FIGURES\n",
    "class solution:\n",
    "    S=ipywidgets.widgets.FloatSlider(min=0, max=4/numpy.pi, step=2/numpy.pi/10, value=2/numpy.pi)\n",
    "    T=ipywidgets.widgets.FloatSlider(min=0, max=2, step=0.1, value=1)\n",
    "    K=ipywidgets.widgets.FloatSlider(min=0, max=2, step=0.1, value=1)\n",
    "    @classmethod\n",
    "    def decorator(self):\n",
    "        return ipywidgets.interact(\n",
    "            S=self.S,\n",
    "            T=self.T,\n",
    "            K=self.K,\n",
    "        )\n",
    "    def __init__(self, S, T, K):\n",
    "        self.S = S\n",
    "        self.T = T\n",
    "        self.K = K\n",
    "    class r:\n",
    "        def __init__(self, context):\n",
    "            self.context = context\n",
    "        def proportion(self, x):\n",
    "            return self.context.S * numpy.arctan(self.context.K * x) + self.context.T\n",
    "        def gn(self, g, n):\n",
    "            return self.proportion(g/n)\n",
    "    class w:\n",
    "        def __init__(self, context):\n",
    "            self.context = context\n",
    "        def nr(self, n, r):\n",
    "            return n * r\n",
    "        def gn(self, g, n):\n",
    "            return n * solution.r(self.context).gn(g, n)"
   ]
  },
  {
   "cell_type": "markdown",
   "metadata": {},
   "source": [
    "## No Inflation on NEO"
   ]
  },
  {
   "cell_type": "markdown",
   "metadata": {},
   "source": [
    "As a respect to the original design, NEO can be kept with no inflation."
   ]
  },
  {
   "cell_type": "markdown",
   "metadata": {},
   "source": [
    "## Permanent Inflation on GAS"
   ]
  },
  {
   "cell_type": "markdown",
   "metadata": {},
   "source": [
    "Inflation GAS is used to incentive governance participants, permanent inflation on GAS is proposed to make the solution works in the long run."
   ]
  },
  {
   "cell_type": "markdown",
   "metadata": {},
   "source": [
    "## Redistribution of Inflation GAS"
   ]
  },
  {
   "cell_type": "markdown",
   "metadata": {},
   "source": [
    "The reward weight rate $r$ is defined in the following expression and it is used in the redistribution of inflation of GAS to evaluate how much weight per NEO the specific governance participant has. The specific governance participant owns $g$ GAS and $n$ NEO. Then an $\\arctan$ function is attached to the proportion of GAS and NEO held by the participant and the proportion will be converged between $0$ and $\\frac{\\pi}{2}$. At last, the additional reward weight rate $S$, the minimal reward weight rate $T$ and the additional reward weight speed $K$ are attached as a linear scale to adjust the basic reward rate and addtional reward rate."
   ]
  },
  {
   "cell_type": "markdown",
   "metadata": {},
   "source": [
    "$$\n",
    "r = S \\arctan{\\frac{g}{n} K} + T\n",
    "$$"
   ]
  },
  {
   "cell_type": "markdown",
   "metadata": {},
   "source": [
    "The following figure shows the relation between reward weight rate $r$ and proportion of GAS and NEO $\\frac{g}{n}$. Obviously the reward rate grows when the proportion of GAS and NEO grows. The growth rate of reward weight rate $r$ decreases when proportion of GAS and NEO $\\frac{g}{n}$ increases."
   ]
  },
  {
   "cell_type": "code",
   "execution_count": 3,
   "metadata": {},
   "outputs": [
    {
     "data": {
      "application/vnd.jupyter.widget-view+json": {
       "model_id": "ae0f2f927840437095ed7a9cdff1f215",
       "version_major": 2,
       "version_minor": 0
      },
      "text/plain": [
       "interactive(children=(FloatSlider(value=0.6366197723675814, description='S', max=1.2732395447351628, step=0.06…"
      ]
     },
     "metadata": {},
     "output_type": "display_data"
    }
   ],
   "source": [
    "@solution.decorator()\n",
    "def draw(S, T, K):\n",
    "    c = solution(S, T, K)\n",
    "    x = numpy.arange(0,100,0.001)\n",
    "    y = solution.r(c).proportion(x)\n",
    "    matplotlib.pyplot.xlabel('g/n')\n",
    "    matplotlib.pyplot.ylabel('r')\n",
    "    matplotlib.pyplot.plot(x, y)\n",
    "    matplotlib.pyplot.show()"
   ]
  },
  {
   "cell_type": "markdown",
   "metadata": {},
   "source": [
    "It would be more clear if logarithmic scale is used to plot the relation between reward weight rate $r$ and proportion of GAS and NEO $\\frac{g}{n}$ in the follwing figure. It is pretty hard to increase reward weight rate $r$ a bit if proportion of GAS and NEO $\\frac{g}{n}$ is enough large."
   ]
  },
  {
   "cell_type": "code",
   "execution_count": 4,
   "metadata": {},
   "outputs": [
    {
     "data": {
      "application/vnd.jupyter.widget-view+json": {
       "model_id": "aa943a7445424be7bf77dd0722c29020",
       "version_major": 2,
       "version_minor": 0
      },
      "text/plain": [
       "interactive(children=(FloatSlider(value=0.6366197723675814, description='S', max=1.2732395447351628, step=0.06…"
      ]
     },
     "metadata": {},
     "output_type": "display_data"
    }
   ],
   "source": [
    "@solution.decorator()\n",
    "def draw(S, T, K):\n",
    "    c = solution(S, T, K)\n",
    "    x = numpy.arange(-8,8,0.001)\n",
    "    y = solution.r(c).proportion(10**x)\n",
    "    matplotlib.pyplot.xlabel('log(g/n)')\n",
    "    matplotlib.pyplot.ylabel('r')\n",
    "    matplotlib.pyplot.plot(x, y)\n",
    "    matplotlib.pyplot.show()"
   ]
  },
  {
   "cell_type": "markdown",
   "metadata": {},
   "source": [
    "The reward weight $w$ is defined as the production of the number of NEO $n$ held by the participant and its reward weight rate $r$."
   ]
  },
  {
   "cell_type": "markdown",
   "metadata": {},
   "source": [
    "$$\n",
    "w = n r\n",
    "$$"
   ]
  },
  {
   "cell_type": "markdown",
   "metadata": {},
   "source": [
    "The following 3D figure shows the relation of the number of NEO $n$ and the number of GAS $g$ held by the participant and its reward weight rate $r$."
   ]
  },
  {
   "cell_type": "code",
   "execution_count": 5,
   "metadata": {},
   "outputs": [
    {
     "data": {
      "application/vnd.jupyter.widget-view+json": {
       "model_id": "3d11d68607dd4881bcac9a71e91a30c1",
       "version_major": 2,
       "version_minor": 0
      },
      "text/plain": [
       "interactive(children=(FloatSlider(value=0.6366197723675814, description='S', max=1.2732395447351628, step=0.06…"
      ]
     },
     "metadata": {},
     "output_type": "display_data"
    }
   ],
   "source": [
    "@solution.decorator()\n",
    "def draw(S, T, K):\n",
    "    c = solution(S, T, K)\n",
    "    x = numpy.arange(1,10,1)\n",
    "    y = numpy.arange(0.1,100,0.1)\n",
    "    x, y = numpy.meshgrid(x, y)\n",
    "    z = solution.w(c).gn(y, x)\n",
    "    matplotlib.pyplot.gca(projection='3d').plot_surface(x, y, z)\n",
    "    matplotlib.pyplot.show()"
   ]
  },
  {
   "cell_type": "markdown",
   "metadata": {},
   "source": [
    "As a result, the reward $e$ in GAS can be counted as the following expression where $I$ is the amount of inflation GAS, $V$ is all the governance participants and $w_i$ is the reward weight of governance participant $i$."
   ]
  },
  {
   "cell_type": "markdown",
   "metadata": {},
   "source": [
    "$$\n",
    "e = \\frac{I w}{\\sum_{i \\in V}{w_i}}\n",
    "$$"
   ]
  },
  {
   "cell_type": "markdown",
   "metadata": {},
   "source": [
    "# The Analysis"
   ]
  },
  {
   "cell_type": "markdown",
   "metadata": {},
   "source": [
    "## Reward Weight Rate"
   ]
  },
  {
   "cell_type": "markdown",
   "metadata": {},
   "source": [
    "Reward weight rate $r$ is designed to distribute the inflation GAS. The $\\arctan$ function provides pretty good features for the distribution weight. Governance participants will get the basic reward weight if it doesn't hold any GAS, which means, the NEO holder will be incentived if it participated in the on-chain governance. The additional reward is limitted even if the governance participant hold large amount of GAS. However, over all, participants should know:"
   ]
  },
  {
   "cell_type": "markdown",
   "metadata": {},
   "source": [
    "More NEO held, more GAS rewarded."
   ]
  },
  {
   "cell_type": "markdown",
   "metadata": {},
   "source": [
    "$$\n",
    "\\frac{\\partial e}{\\partial n} \\gt 0\n",
    "$$"
   ]
  },
  {
   "cell_type": "markdown",
   "metadata": {},
   "source": [
    "More GAS held, more GAS rewarded."
   ]
  },
  {
   "cell_type": "markdown",
   "metadata": {},
   "source": [
    "$$\\frac{\\partial e}{\\partial g} \\gt 0$$"
   ]
  },
  {
   "cell_type": "markdown",
   "metadata": {},
   "source": [
    "It is harmless for participants to spend a bit GAS if it need to because only a bit GAS will not decrease much of your reward weight rate if the governance participant hold enough GAS."
   ]
  },
  {
   "cell_type": "markdown",
   "metadata": {},
   "source": [
    "## Retial Investor"
   ]
  },
  {
   "cell_type": "markdown",
   "metadata": {},
   "source": [
    "Alice is a retial investor and she has totally some money for investment. She likes [neo](https://neo.org/) blockchain and she want to spend all her money to buy the native tokens on [neo](https://neo.org/) blockchain, a.k.a NEO and GAS. How many NEO coins should she buy and how many GAS coins should she buy? Which strategy should she use?"
   ]
  },
  {
   "cell_type": "markdown",
   "metadata": {},
   "source": [
    "By assuming Alice has $A$ dollars and $N$ is the price of NEO in dollar and $G$ is the price of GAS in dollar, the following expression is statemented because Alice spend all her money to buy NEO and GAS."
   ]
  },
  {
   "cell_type": "code",
   "execution_count": 6,
   "metadata": {},
   "outputs": [],
   "source": [
    "# YOU DON'T NEED TO READ THIS SECTION UNLESS YOU WANT TO KNOW THE IMPLEMENT DETAILS OF FIGURES\n",
    "class retial_investor(solution):\n",
    "    A=ipywidgets.widgets.FloatSlider(min=0, max=1000, step=10, value=100)\n",
    "    G=ipywidgets.widgetstable_baselines.ACKTR('Mls.FloatSlider(min=0, max=100, step=1, value=2)\n",
    "    N=ipywidgets.widgets.FloatSlider(min=0, max=100, step=1, value=10)\n",
    "    I = ipywidgets.widgets.FloatSlider(min=10**6, max=10**8, step=10**6, value=10**7)\n",
    "    U = ipywidgets.widgets.FloatSlider(min=10**8, max=10**8, step=10**8, value=10**8)\n",
    "    R = ipywidgets.widgets.FloatSlider(min=0, max=1, step=0.01, value=0.25)\n",
    "    W = ipywidgets.widgets.FloatSlider(min=0, max=2, step=0.01, value=0.4)\n",
    "    @classmethod\n",
    "    def decorator(self):\n",
    "        return ipywidgets.interact(\n",
    "            S=self.S,\n",
    "            T=self.T,\n",
    "            K=self.K,\n",
    "            A=self.A,\n",
    "            G=self.G,\n",
    "            N=self.N,\n",
    "            I=self.I,\n",
    "            U=self.U,\n",
    "            R=self.R,\n",
    "            W=self.W,\n",
    "        )\n",
    "    def __init__(self, S, T, K, A, G, N, I, U, R, W):\n",
    "        super().__init__(S, T, K)\n",
    "        self.A = A\n",
    "        self.G = G\n",
    "        self.N = N\n",
    "        self.I = I\n",
    "        self.U = U\n",
    "        self.R = R\n",
    "        self.W = W\n",
    "    class g:\n",
    "        def __init__(self, context):\n",
    "            self.context = context\n",
    "        def n(self, n):\n",
    "            return (self.context.A - n * self.context.N) / self.context.G\n",
    "    class r:\n",
    "        def __init__(self, context):\n",
    "            self.context = context\n",
    "        def n(self, n):\n",
    "            g = retial_investor.g(self.context).n(n)\n",
    "            return solution.r(self.context).gn(g, n)\n",
    "    class w:\n",
    "        def __init__(self, context):\n",
    "            self.context = context\n",
    "        def n(self, n):\n",
    "            g = retial_investor.g(self.context).n(n)\n",
    "            return solution.w(self.context).gn(g, n)\n",
    "    class e:\n",
    "        def __init__(self, context):\n",
    "            self.context = context\n",
    "        def n(self, n):\n",
    "            return retial_investor.w(self.context).n(n) * self.context.I / self.context.U / self.context.R / self.context.W\n",
    "    class p:\n",
    "        def __init__(self, context):\n",
    "            self.context = context\n",
    "        def n(self, n):\n",
    "            return retial_investor.e(self.context).n(n) * self.context.G / self.context.A"
   ]
  },
  {
   "cell_type": "markdown",
   "metadata": {},
   "source": [
    "$$\n",
    "A = n N + g G\n",
    "$$"
   ]
  },
  {
   "cell_type": "markdown",
   "metadata": {},
   "source": [
    "Transform it into another form. The relation between $g$ and $n$ is shown:"
   ]
  },
  {
   "cell_type": "markdown",
   "metadata": {},
   "source": [
    "$$\n",
    "g = \\frac{A - n N}{G}\n",
    "$$"
   ]
  },
  {
   "cell_type": "markdown",
   "metadata": {},
   "source": [
    "It is obvious that such relation is linear."
   ]
  },
  {
   "cell_type": "code",
   "execution_count": 7,
   "metadata": {},
   "outputs": [
    {
     "data": {
      "application/vnd.jupyter.widget-view+json": {
       "model_id": "ddfe855be1b542dc80fad2c1ba74e71e",
       "version_major": 2,
       "version_minor": 0
      },
      "text/plain": [
       "interactive(children=(FloatSlider(value=0.6366197723675814, description='S', max=1.2732395447351628, step=0.06…"
      ]
     },
     "metadata": {},
     "output_type": "display_data"
    }
   ],
   "source": [
    "@retial_investor.decorator()\n",
    "def draw(S, T, K, A, G, N, I, U, R, W):\n",
    "    c = retial_investor(S, T, K, A, G, N, I, U, R, W)\n",
    "    x = numpy.arange(0.001,A/N,0.001)\n",
    "    y = retial_investor.g(c).n(x)\n",
    "    matplotlib.pyplot.xlabel('n')\n",
    "    matplotlib.pyplot.ylabel('g')\n",
    "    matplotlib.pyplot.plot(x, y)\n",
    "    matplotlib.pyplot.show()"
   ]
  },
  {
   "cell_type": "markdown",
   "metadata": {},
   "source": [
    "Then the relation between reward weight rate $r$ and number of NEO $n$ held by Alice can be calculated."
   ]
  },
  {
   "cell_type": "markdown",
   "metadata": {},
   "source": [
    "$$\n",
    "r = S \\arctan{\\frac{A - n N}{n G} K} + T\n",
    "$$"
   ]
  },
  {
   "cell_type": "markdown",
   "metadata": {},
   "source": [
    "The more NEO Alice buys, the less GAS Alice buys, then, the less reward weight rate $r$."
   ]
  },
  {
   "cell_type": "code",
   "execution_count": 8,
   "metadata": {},
   "outputs": [
    {
     "data": {
      "application/vnd.jupyter.widget-view+json": {
       "model_id": "0eaf8dddecf541568c198b246d2ace36",
       "version_major": 2,
       "version_minor": 0
      },
      "text/plain": [
       "interactive(children=(FloatSlider(value=0.6366197723675814, description='S', max=1.2732395447351628, step=0.06…"
      ]
     },
     "metadata": {},
     "output_type": "display_data"
    }
   ],
   "source": [
    "@retial_investor.decorator()\n",
    "def draw(S, T, K, A, G, N, I, U, R, W):\n",
    "    c = retial_investor(S, T, K, A, G, N, I, U, R, W)\n",
    "    x = numpy.arange(0.001,A/N,0.001)\n",
    "    y = retial_investor.r(c).n(x)\n",
    "    matplotlib.pyplot.xlabel('n')\n",
    "    matplotlib.pyplot.ylabel('r')\n",
    "    matplotlib.pyplot.plot(x, y)\n",
    "    matplotlib.pyplot.show()"
   ]
  },
  {
   "cell_type": "markdown",
   "metadata": {},
   "source": [
    "The reward weight $w$ can be evaluated by multiplying the number of NEO $n$ held by Alice."
   ]
  },
  {
   "cell_type": "markdown",
   "metadata": {},
   "source": [
    "$$\n",
    "w = n S \\arctan{\\frac{A - n N}{n G} K} + n T\n",
    "$$"
   ]
  },
  {
   "cell_type": "markdown",
   "metadata": {},
   "source": [
    "The following figure shows the relation between reward weight $w$ and number of NEO $n$ bought by Alice. At first, reward weight $w$ grows when $n$ grows but later reward weight $w$ goes down."
   ]
  },
  {
   "cell_type": "code",
   "execution_count": 9,
   "metadata": {},
   "outputs": [
    {
     "data": {
      "application/vnd.jupyter.widget-view+json": {
       "model_id": "0c5a24477c324b2da5ab42ebdd6367d8",
       "version_major": 2,
       "version_minor": 0
      },
      "text/plain": [
       "interactive(children=(FloatSlider(value=0.6366197723675814, description='S', max=1.2732395447351628, step=0.06…"
      ]
     },
     "metadata": {},
     "output_type": "display_data"
    }
   ],
   "source": [
    "@retial_investor.decorator()\n",
    "def draw(S, T, K, A, G, N, I, U, R, W):\n",
    "    c = retial_investor(S, T, K, A, G, N, I, U, R, W)\n",
    "    x = numpy.arange(0.001,A/N,0.001)\n",
    "    y = retial_investor.w(c).n(x)\n",
    "    matplotlib.pyplot.xlabel('n')\n",
    "    matplotlib.pyplot.ylabel('w')\n",
    "    matplotlib.pyplot.plot(x, y)\n",
    "    matplotlib.pyplot.show()"
   ]
  },
  {
   "cell_type": "markdown",
   "metadata": {},
   "source": [
    "By assuming the total supply of NEO is $U$, the rate of $NEO$ which participated in blockchain governance is $R$ and the average reward weight per NEO is $W$, we have $\\sum_{i \\in V}{w_i} = U R W$. Then the relation between reward $e$ in GAS and reward weight $w$ can be evaluated as the following expression:"
   ]
  },
  {
   "cell_type": "markdown",
   "metadata": {},
   "source": [
    "$$\n",
    "e = \\frac{w I}{U R W}\n",
    "$$"
   ]
  },
  {
   "cell_type": "markdown",
   "metadata": {},
   "source": [
    "The relation between reward $e$ in GAS and amount of NEO $n$ bought by Alice can be shown in the following figure:"
   ]
  },
  {
   "cell_type": "code",
   "execution_count": 10,
   "metadata": {},
   "outputs": [
    {
     "data": {
      "application/vnd.jupyter.widget-view+json": {
       "model_id": "f90d812922bd438ab63eb11fbc23cf5f",
       "version_major": 2,
       "version_minor": 0
      },
      "text/plain": [
       "interactive(children=(FloatSlider(value=0.6366197723675814, description='S', max=1.2732395447351628, step=0.06…"
      ]
     },
     "metadata": {},
     "output_type": "display_data"
    }
   ],
   "source": [
    "@retial_investor.decorator()\n",
    "def draw(S, T, K, A, G, N, I, U, R, W):\n",
    "    c = retial_investor(S, T, K, A, G, N, I, U, R, W)\n",
    "    x = numpy.arange(0.001,A/N,0.001)\n",
    "    y = retial_investor.e(c).n(x)\n",
    "    matplotlib.pyplot.xlabel('n')\n",
    "    matplotlib.pyplot.ylabel('e')\n",
    "    matplotlib.pyplot.plot(x, y)\n",
    "    matplotlib.pyplot.show()"
   ]
  },
  {
   "cell_type": "markdown",
   "metadata": {},
   "source": [
    "Then the rate of profit $p$ in dollar can be couted, with the assumption that the price of GAS in dollar will not changed after the inflation:"
   ]
  },
  {
   "cell_type": "markdown",
   "metadata": {},
   "source": [
    "$$\n",
    "p = \\frac{e G}{A}\n",
    "$$"
   ]
  },
  {
   "cell_type": "markdown",
   "metadata": {},
   "source": [
    "And the relation between rate of profit $p$ and amount of NEO $n$ bought by Alice can be drawn:"
   ]
  },
  {
   "cell_type": "code",
   "execution_count": 11,
   "metadata": {},
   "outputs": [
    {
     "data": {
      "application/vnd.jupyter.widget-view+json": {
       "model_id": "f664cadee643404c8d3684ac230f9d30",
       "version_major": 2,
       "version_minor": 0
      },
      "text/plain": [
       "interactive(children=(FloatSlider(value=0.6366197723675814, description='S', max=1.2732395447351628, step=0.06…"
      ]
     },
     "metadata": {},
     "output_type": "display_data"
    }
   ],
   "source": [
    "@retial_investor.decorator()\n",
    "def draw(S, T, K, A, G, N, I, U, R, W):\n",
    "    c = retial_investor(S, T, K, A, G, N, I, U, R, W)\n",
    "    x = numpy.arange(0.001,A/N,0.001)\n",
    "    y = retial_investor.p(c).n(x)\n",
    "    matplotlib.pyplot.xlabel('n')\n",
    "    matplotlib.pyplot.ylabel('p')\n",
    "    matplotlib.pyplot.plot(x, y)\n",
    "    matplotlib.pyplot.show()"
   ]
  },
  {
   "cell_type": "markdown",
   "metadata": {},
   "source": [
    "As a result, the best strategy for Alice is to buy $n$ NEO to reach the highest rate of profit $p$."
   ]
  },
  {
   "cell_type": "markdown",
   "metadata": {},
   "source": [
    "## Exchange Rate"
   ]
  },
  {
   "cell_type": "markdown",
   "metadata": {},
   "source": [
    "The solution makes a soft exchange rate for NEO and GAS."
   ]
  },
  {
   "cell_type": "markdown",
   "metadata": {},
   "source": [
    "$$\n",
    "N \\approx x G\n",
    "$$"
   ]
  },
  {
   "cell_type": "markdown",
   "metadata": {},
   "source": [
    "The following expression shows the condition of no need to buy GAS, which is, the maximum price of GAS:"
   ]
  },
  {
   "cell_type": "markdown",
   "metadata": {},
   "source": [
    "$$\n",
    "\\frac{\\partial e}{\\partial n} \\Big | _{n=\\frac{A}{N}} = 0\n",
    "$$"
   ]
  },
  {
   "cell_type": "markdown",
   "metadata": {},
   "source": [
    "The following expression show the condition of the balance demand and supply where $P$ is the total supply of NEO and $Q$ is the total supply of GAS:"
   ]
  },
  {
   "cell_type": "markdown",
   "metadata": {},
   "source": [
    "$$\n",
    "\\begin{cases}\n",
    "\\frac{\\partial e}{\\partial g} = 0 \\\\\n",
    "\\frac{g}{n} = \\frac{Q}{P}\\\\\n",
    "\\end{cases}\n",
    "$$"
   ]
  },
  {
   "cell_type": "markdown",
   "metadata": {},
   "source": [
    "As a result, NEO will hold the price of GAS when the price of GAS goes down, and GAS will hold the price of NEO when the price of NEO goes down because of the rational players."
   ]
  },
  {
   "cell_type": "markdown",
   "metadata": {},
   "source": [
    "# The Conclusion"
   ]
  },
  {
   "cell_type": "markdown",
   "metadata": {},
   "source": [
    "With the proposed solution in this article, the advantages of dual token economic model can be really activated. We hope the designers of blockchains can be inspired from this article and make their blockchain more sustainable."
   ]
  },
  {
   "cell_type": "markdown",
   "metadata": {},
   "source": [
    "# The Appendix"
   ]
  },
  {
   "cell_type": "markdown",
   "metadata": {},
   "source": [
    "## Notation"
   ]
  },
  {
   "cell_type": "markdown",
   "metadata": {},
   "source": [
    "- $A$: the total money in dollar owned by the specific participant of neo governance\n",
    "- $e$: reward in GAS\n",
    "- $G$: price of GAS in dollar\n",
    "- $g$: amount of GAS held by the specific participant of neo governance\n",
    "- $I$: amount of inflation GAS\n",
    "- $N$: price of NEO in dollar\n",
    "- $n$: amount of NEO held by the specific participant of neo governance\n",
    "- $P$: total supply of NEO\n",
    "- $p$: rate of profit in dollar\n",
    "- $Q$: total supply of GAS\n",
    "- $r$: reward weight rate\n",
    "- $S$: additional reward weight rate\n",
    "- $T$: minimal reward weight rate\n",
    "- $V$: the set of all governance participant\n",
    "- $w$: reward weight\n",
    "- $x$: exchange rate of NEO and GAS"
   ]
  },
  {
   "cell_type": "markdown",
   "metadata": {},
   "source": [
    "@vang1ong7ang"
   ]
  }
 ],
 "metadata": {
  "kernelspec": {
   "display_name": "Python 3",
   "language": "python",
   "name": "python3"
  },
  "language_info": {
   "codemirror_mode": {
    "name": "ipython",
    "version": 3
   },
   "file_extension": ".py",
   "mimetype": "text/x-python",
   "name": "python",
   "nbconvert_exporter": "python",
   "pygments_lexer": "ipython3",
   "version": "3.8.1"
  }
 },
 "nbformat": 4,
 "nbformat_minor": 4
}
