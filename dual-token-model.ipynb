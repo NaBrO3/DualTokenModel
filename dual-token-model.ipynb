{
 "cells": [
  {
   "cell_type": "markdown",
   "metadata": {},
   "source": [
    "# The Introduction"
   ]
  },
  {
   "cell_type": "markdown",
   "metadata": {},
   "source": [
    "[Bitcoin](https://bitcoin.org/), [ethereum](https://ethereum.org/) and other blockchains are developed so quickly during 2010s. Blockchains provide a decentrilized and auditable infrastructure to the users, allowing all members to maintain their own copies of the same ledger and ensure that the copies are all synchronized. Blockchains can be used as a ledger, a global computer or other state machines and it drives many on-chain applications."
   ]
  },
  {
   "cell_type": "markdown",
   "metadata": {},
   "source": [
    "One of the key challenges of this decentralized design is incentives. The incentive model of a blockchain is to calculating the system income (including inflation and transaction fee) and design the redistribution of the income. Another article of mine can be read (TODO: add link here) if you want to know more about the whole picture of fundamental mechanism of blockchains. Simply speaking, ignoring the difference among various consensus algrithms, the responsible participants of on-chain governance should be motivated and [bitcoin](https://bitcoin.org/), [ethereum](https://ethereum.org/), [eos](https://eos.io/) and other blockchains proposed various good solutions."
   ]
  },
  {
   "cell_type": "markdown",
   "metadata": {},
   "source": [
    "Actually on-chain behavior should be rewarded by on-chain tokens, which means, the incentive model is based on a basic token model of a blockchain. Nowadays, most of blockchains use single token model. The only token in the single token model may be used as a governance token as well as a utility token and more or less, it worked pretty well."
   ]
  },
  {
   "cell_type": "markdown",
   "metadata": {},
   "source": [
    "Blockchains like [neo](https://neo.org/) and [ontology](https://ont.io/) use a dual token model. One is governance token without inflation while the other is utility token with inflation. With inflation people may hold it while without inflation people may spend it."
   ]
  },
  {
   "cell_type": "markdown",
   "metadata": {},
   "source": [
    "In this article, the problems in the dual token model will be discussed and a comparasion with single token model will be introduced. In the end, an interesting dual token economic model will be proposed."
   ]
  },
  {
   "cell_type": "markdown",
   "metadata": {},
   "source": [
    "*In the rest of this article, [neo](https://neo.org/) will be used as an example of explaination. We will follow the design of neo blockchain and use NEO to represent the governance token and GAS to represent the utility token.*"
   ]
  },
  {
   "cell_type": "markdown",
   "metadata": {},
   "source": [
    "*In this article, it is focused on the token model instead of incentive model. So the detail of reward redistribution is ommited. For more detail about incentive model, see another article of mine (TODO: add link here)*"
   ]
  },
  {
   "cell_type": "markdown",
   "metadata": {},
   "source": [
    "# The Problem"
   ]
  },
  {
   "cell_type": "markdown",
   "metadata": {},
   "source": [
    "TODO"
   ]
  },
  {
   "cell_type": "markdown",
   "metadata": {},
   "source": [
    "# The Solution"
   ]
  },
  {
   "cell_type": "markdown",
   "metadata": {},
   "source": [
    "*Only the principles are statemented in this section. All the incentive details will be ommited here.*"
   ]
  },
  {
   "cell_type": "markdown",
   "metadata": {},
   "source": [
    "## No Inflation on NEO"
   ]
  },
  {
   "cell_type": "markdown",
   "metadata": {},
   "source": [
    "## Permanent Inflation on GAS"
   ]
  },
  {
   "cell_type": "markdown",
   "metadata": {},
   "source": [
    "## Redistribution of Inflation GAS"
   ]
  },
  {
   "cell_type": "markdown",
   "metadata": {},
   "source": [
    "$$\n",
    "r = S \\arctan{\\frac{g}{n}} + T\n",
    "$$"
   ]
  },
  {
   "cell_type": "code",
   "execution_count": 4,
   "metadata": {},
   "outputs": [
    {
     "data": {
      "application/vnd.jupyter.widget-view+json": {
       "model_id": "f7aba10796fe41899ba48ffbe671f4c5",
       "version_major": 2,
       "version_minor": 0
      },
      "text/plain": [
       "interactive(children=(FloatSlider(value=0.6366197723675814, description='S', max=1.2732395447351628, step=0.06…"
      ]
     },
     "metadata": {},
     "output_type": "display_data"
    }
   ],
   "source": [
    "import numpy\n",
    "import matplotlib\n",
    "import ipywidgets\n",
    "\n",
    "%matplotlib inline\n",
    "\n",
    "S = ipywidgets.widgets.FloatSlider(min=0, max=4/numpy.pi, step=2/numpy.pi/10, value=2/numpy.pi)\n",
    "T = ipywidgets.widgets.FloatSlider(min=0, max=2, step=0.1, value=1)\n",
    "\n",
    "@ipywidgets.interact(S=S, T=T)\n",
    "def draw(S, T):\n",
    "    x = numpy.arange(0,100,0.001)\n",
    "    y = S * numpy.arctan(x) + T\n",
    "    matplotlib.pyplot.plot(x, y)\n",
    "    matplotlib.pyplot.show()"
   ]
  },
  {
   "cell_type": "code",
   "execution_count": 5,
   "metadata": {},
   "outputs": [
    {
     "data": {
      "application/vnd.jupyter.widget-view+json": {
       "model_id": "08e09413e5184be2a381690f39c97358",
       "version_major": 2,
       "version_minor": 0
      },
      "text/plain": [
       "interactive(children=(FloatSlider(value=0.6366197723675814, description='S', max=1.2732395447351628, step=0.06…"
      ]
     },
     "metadata": {},
     "output_type": "display_data"
    }
   ],
   "source": [
    "import numpy\n",
    "import matplotlib\n",
    "import ipywidgets\n",
    "\n",
    "%matplotlib inline\n",
    "\n",
    "S = ipywidgets.widgets.FloatSlider(min=0, max=4/numpy.pi, step=2/numpy.pi/10, value=2/numpy.pi)\n",
    "T = ipywidgets.widgets.FloatSlider(min=0, max=2, step=0.1, value=1)\n",
    "\n",
    "@ipywidgets.interact(S=S, T=T)\n",
    "def draw(S, T):\n",
    "    x = numpy.arange(-8,8,0.001)\n",
    "    y = S * numpy.arctan(10**x) + T\n",
    "    matplotlib.pyplot.plot(x, y)\n",
    "    matplotlib.pyplot.show()"
   ]
  },
  {
   "cell_type": "markdown",
   "metadata": {},
   "source": [
    "$$\n",
    "w = n r\n",
    "$$"
   ]
  },
  {
   "cell_type": "code",
   "execution_count": 9,
   "metadata": {},
   "outputs": [
    {
     "data": {
      "application/vnd.jupyter.widget-view+json": {
       "model_id": "5ff95d975a85433c83b1ee5480bf4539",
       "version_major": 2,
       "version_minor": 0
      },
      "text/plain": [
       "interactive(children=(FloatSlider(value=0.6366197723675814, description='S', max=1.2732395447351628, step=0.06…"
      ]
     },
     "metadata": {},
     "output_type": "display_data"
    }
   ],
   "source": [
    "import numpy\n",
    "import matplotlib\n",
    "import ipywidgets\n",
    "\n",
    "%matplotlib notebook\n",
    "\n",
    "S = ipywidgets.widgets.FloatSlider(min=0, max=4/numpy.pi, step=2/numpy.pi/10, value=2/numpy.pi)\n",
    "T = ipywidgets.widgets.FloatSlider(min=0, max=2, step=0.1, value=1)\n",
    "\n",
    "@ipywidgets.interact(S=S, T=T)\n",
    "def draw(S, T):\n",
    "    x = numpy.arange(1,10,1)\n",
    "    y = numpy.arange(0.1,100,0.1)\n",
    "    x, y = numpy.meshgrid(x, y)\n",
    "    z = x * S * numpy.arctan(10**(y/x)) + T\n",
    "    matplotlib.pyplot.gca(projection='3d').plot_surface(x, y, z)\n",
    "    matplotlib.pyplot.show()"
   ]
  },
  {
   "cell_type": "markdown",
   "metadata": {},
   "source": [
    "$$\n",
    "e = \\frac{I w}{\\sum_{i \\in V}{w_i}}\n",
    "$$"
   ]
  },
  {
   "cell_type": "markdown",
   "metadata": {},
   "source": [
    "### More NEO Held, More GAS Rewarded"
   ]
  },
  {
   "cell_type": "markdown",
   "metadata": {},
   "source": [
    "$$\\frac{\\partial e}{\\partial n} \\geqslant 0$$"
   ]
  },
  {
   "cell_type": "markdown",
   "metadata": {},
   "source": [
    "### More GAS Held, More GAS Rewarded"
   ]
  },
  {
   "cell_type": "markdown",
   "metadata": {},
   "source": [
    "$$\\frac{\\partial e}{\\partial g} \\geqslant 0$$"
   ]
  },
  {
   "cell_type": "markdown",
   "metadata": {},
   "source": [
    "TODO"
   ]
  },
  {
   "cell_type": "markdown",
   "metadata": {},
   "source": [
    "# The Conclusion"
   ]
  },
  {
   "cell_type": "markdown",
   "metadata": {},
   "source": [
    "With the proposed solution in this article, the advantages of dual token economic model can be really activated. We hope the designers of blockchains can be inspired from this article and make their blockchain more sustainable."
   ]
  }
 ],
 "metadata": {
  "kernelspec": {
   "display_name": "Python 3",
   "language": "python",
   "name": "python3"
  },
  "language_info": {
   "codemirror_mode": {
    "name": "ipython",
    "version": 3
   },
   "file_extension": ".py",
   "mimetype": "text/x-python",
   "name": "python",
   "nbconvert_exporter": "python",
   "pygments_lexer": "ipython3",
   "version": "3.8.1"
  }
 },
 "nbformat": 4,
 "nbformat_minor": 4
}
